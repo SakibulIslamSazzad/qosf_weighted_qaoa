{
 "cells": [
  {
   "cell_type": "markdown",
   "metadata": {},
   "source": [
    "# QAOA Implementation for the weighted MaxCut problem\n"
   ]
  },
  {
   "cell_type": "markdown",
   "metadata": {},
   "source": [
    "Importing Dependencies"
   ]
  },
  {
   "cell_type": "code",
   "execution_count": 1,
   "metadata": {},
   "outputs": [
    {
     "name": "stderr",
     "output_type": "stream",
     "text": [
      "c:\\users\\sakib\\qc_sakib\\lib\\site-packages\\qiskit\\__init__.py:64: RuntimeWarning: Could not import the Aer provider from the qiskit-aer package. Install qiskit-aer or check your installation.\n",
      "  RuntimeWarning)\n"
     ]
    }
   ],
   "source": [
    "from typing import List, Tuple\n",
    "\n",
    "#import math tools\n",
    "import numpy as np\n",
    "import random\n",
    "from scipy.optimize import minimize\n",
    "\n",
    "# We import the tools to handle general Graphs\n",
    "import networkx as nx\n",
    "\n",
    "# We import plotting tools \n",
    "import matplotlib.pyplot as plt \n",
    "from   matplotlib import cm\n",
    "from   matplotlib.ticker import LinearLocator, FormatStrFormatter\n",
    "\n",
    "\n",
    "# importing Qiskit\n",
    "\n",
    "from qiskit import*\n",
    "\n",
    "\n",
    "#As I have got an runtime error that qiskit-Aer is not properly installed locally, hence to solve the probelm I used BasicAer\n",
    "#in the backend"
   ]
  },
  {
   "cell_type": "markdown",
   "metadata": {},
   "source": [
    "# The Weighted MaxCut Problem\n",
    "Given a set of vertices and weighted edges connecting some of the vertices, we are interested in separating the vertices into two sets such that the sum of the weights of the edges between the sets is maximized."
   ]
  },
  {
   "cell_type": "markdown",
   "metadata": {},
   "source": [
    "# Intro to QAOA\n",
    "\n",
    "The goal of the QAOA is to  prepare low-energy states of a cost Hamiltonian ${H}_C$, which is usually a Hamiltonian diagonal in the computational basis. To achieve this, we will begin in an eigenstate of a mixer Hamiltonian ${H}_M$, which does not commute with the cost Hamiltonian; $[{H}_C,{H}_M] \\neq 0$. Applied onto this initial state is a sequence of exponentials of the form\n",
    "$$\n",
    "   {U}(\\vec{\\theta}) = \\prod_{j=1}^{P}e^{-i\\theta^{(j)}_m{H}_M}e^{-i\\theta^{(j)}_{c} {H}_C}, \n",
    "$$\n",
    "where $\\vec{\\theta} = \\{\\vec{\\theta}_m,\\vec{\\theta}_c\\}$ are variational parameters to be optimized. The objective function for this optimization is simply extract the expectation of the cost Hamiltonian after applying $\\hat{U}(\\theta)$ to the initial state. This sequence of exponentials is the ansatz. The cost Hamiltonian represents our problem at hand. The mixer Hamiltonian is our initial state."
   ]
  },
  {
   "cell_type": "markdown",
   "metadata": {},
   "source": [
    "We have to perform the following tasks in order to implement the QAOA:\n",
    "\n",
    "\n",
    "\n",
    "1.   Create a quantum circuit alternating $U (\\vec{\\theta}_m,{H}_M)$ and $U(\\vec{\\theta}_m,{H}_C)$ operations as many times as desired. \n",
    "2.   Find the optimal value of the variational parameters in our circuit.\n",
    "3.   Measure the output of our circuit."
   ]
  },
  {
   "cell_type": "markdown",
   "metadata": {},
   "source": [
    "# Weighted Graph Generation"
   ]
  },
  {
   "cell_type": "code",
   "execution_count": 2,
   "metadata": {},
   "outputs": [],
   "source": [
    "#Networkx Graph object for the construction of the Graph\n",
    "\n",
    "class Graph:\n",
    "    \"\"\"\n",
    "    This is a class defining the Graph that will be used by Networkx\n",
    "    for the purpose of implementation and demonstration of the \n",
    "    QAOA algorithm\n",
    "\n",
    "    Attributes\n",
    "    ----------\n",
    "    edges_set            :   (list) Contains the list of connecting edges in the Graph\n",
    "                         that is to be constructed\n",
    "    node_set             :   (list) Contains the list of nodes existing in the Graph \n",
    "                         that is to be constructed, extracted from the edges_set\n",
    "    \"\"\"\n",
    "    def __init__(self, edges_set):                                                  \n",
    "        self.edges_set = edges_set                                                  \n",
    "        self.node_set = []                                                          \n",
    "        for i in edges_set:                                                         \n",
    "            if (i.start_node not in self.node_set):\n",
    "                self.node_set.append(i.start_node)                                  \n",
    "            if (i.end_node not in self.node_set):\n",
    "                self.node_set.append(i.end_node)   \n",
    "                \n",
    "\n",
    "        \n"
   ]
  },
  {
   "cell_type": "code",
   "execution_count": 3,
   "metadata": {},
   "outputs": [],
   "source": [
    "#Networkx Edge object for the construction of the Graph\n",
    "\n",
    "class Edge:\n",
    "    \"\"\"\n",
    "    This is a class defining the edges of the Graph that will be used by \n",
    "    Networkx for the purpose of implementation and demonstration of the \n",
    "    QAOA algorithm\n",
    "\n",
    "    Attributes\n",
    "    ----------\n",
    "    start_node           :   (int) This is a variable containing the starting node\n",
    "                             of a connecting edge in the Graph\n",
    "    end_node             :   (int) This is a variable containing the ending node of\n",
    "                             a connecting edge in the Graph\n",
    "    \"\"\"\n",
    "    def __init__(self, start_node, end_node):\n",
    "        self.start_node = start_node\n",
    "        self.end_node = end_node"
   ]
  },
  {
   "cell_type": "code",
   "execution_count": 4,
   "metadata": {},
   "outputs": [],
   "source": [
    "#The edges set as defined in the problem statement (blog post)\n",
    "\n",
    "edges_set = [Edge(0, 1), Edge(1, 2), Edge(2, 3), Edge(3, 0), Edge(2, 0), Edge(1, 3), Edge(0, 4), Edge(1, 4), Edge(2, 4), Edge(3, 4), Edge(4, 5), Edge(5, 0), Edge(2, 6), Edge(6, 3)]\n"
   ]
  },
  {
   "cell_type": "code",
   "execution_count": 5,
   "metadata": {},
   "outputs": [],
   "source": [
    "#Defining seed in random so that the results are reproducible\n",
    "np.random.seed(seed=1)"
   ]
  },
  {
   "cell_type": "code",
   "execution_count": 6,
   "metadata": {},
   "outputs": [],
   "source": [
    "#Assigning weights to the edges and appending to a list\n",
    "\n",
    "edges_weight_set = []\n",
    "for edges in edges_set:\n",
    "    # Generate a randomly weighted edge between them. Here the weighting\n",
    "    # is a random 2 decimal floating point between 0 and 5.\n",
    "    edges_weight_set.append(np.random.randint(0, 500) / 100)\n",
    "\n",
    "#print(edges_weight_set)"
   ]
  },
  {
   "cell_type": "code",
   "execution_count": 7,
   "metadata": {},
   "outputs": [],
   "source": [
    "#Invoking the Graph object for building the Graph\n",
    "\n",
    "working_graph = nx.Graph()\n",
    "for z1,z2 in zip(edges_set, edges_weight_set):                                        \n",
    "            working_graph.add_edge(z1.start_node, z1.end_node,weight=z2)"
   ]
  },
  {
   "cell_type": "code",
   "execution_count": 8,
   "metadata": {},
   "outputs": [
    {
     "data": {
      "text/plain": [
       "{(0, 1): Text(0.11693869108215768, 0.00673399293242799, '0.37'),\n",
       " (0, 3): Text(-0.03526351306018763, -0.0707201587013108, '0.72'),\n",
       " (0, 2): Text(-0.20450297235499265, -0.03920595479300379, '2.55'),\n",
       " (0, 4): Text(-0.04001631495865149, -0.28103747949490543, '2.03'),\n",
       " (0, 5): Text(-0.11246804741960553, -0.6743797878431281, '1.29'),\n",
       " (1, 2): Text(0.1601448872164265, 0.3162876138256806, '2.35'),\n",
       " (1, 3): Text(0.32938434651123155, 0.28477340991737354, '3.93'),\n",
       " (1, 4): Text(0.32463154461276766, 0.07445608912377893, '1.33'),\n",
       " (2, 3): Text(0.007942683074081205, 0.2388334621919418, '3.96'),\n",
       " (2, 4): Text(0.0031898811756173456, 0.028516141398347156, '3.35'),\n",
       " (2, 6): Text(-0.3007545683776055, 0.4962640695775322, '4.6'),\n",
       " (3, 4): Text(0.17242934047042238, -0.002998062509959862, '4.48'),\n",
       " (3, 6): Text(-0.13151510908280045, 0.46474986566922516, '0.71'),\n",
       " (4, 5): Text(0.09522480611100448, -0.6066576916517772, '1.44')}"
      ]
     },
     "execution_count": 8,
     "metadata": {},
     "output_type": "execute_result"
    },
    {
     "data": {
      "image/png": "[encoded data removed]",
      "text/plain": [
       "<Figure size 432x288 with 1 Axes>"
      ]
     },
     "metadata": {},
     "output_type": "display_data"
    }
   ],
   "source": [
    "#Visualising the Graph created\n",
    "\n",
    "pos=nx.spring_layout(working_graph)                                                               \n",
    "nx.draw_networkx(working_graph,pos)                                                               \n",
    "labels = nx.get_edge_attributes(working_graph,'weight')                                           \n",
    "nx.draw_networkx_edge_labels(working_graph,pos,edge_labels=labels)   "
   ]
  },
  {
   "cell_type": "markdown",
   "metadata": {},
   "source": [
    "# Creating Initial Superposition State"
   ]
  },
  {
   "cell_type": "code",
   "execution_count": 9,
   "metadata": {},
   "outputs": [],
   "source": [
    "num = len(edges_set)   #Number of nodes. Each node is assigned a qubit.\n",
    "depth = 1 #Number of layers\n",
    "\n",
    "def initialization(qc):    #creating all the possible input candidates\n",
    "    for i in qc.qubits:\n",
    "        qc.h(i)\n",
    "    return qc"
   ]
  },
  {
   "cell_type": "markdown",
   "metadata": {},
   "source": [
    "# Creating the cost Hamiltonian\n",
    "\n",
    "As long as the QAOA is polynomial time bounded, so we have to be careful to find the optimal solution in the bounded time, hence approximation ration and steps size have to chosen carefully as long as the increment of the node size.  In the intro, I mentioned that QAOA has an unitary operators, actually there are 2 unitary operators to find the optimal solution. To find the solutation we have to use the define the hamiltonian as a cost function of 2 pauli Z operators. \n",
    "\n",
    "$$H=\\frac{w_{ij}}{2}(1- Z_{i}Z_{j})$$\n",
    "\n",
    "As we are working on weighted graph so the weighted value is added to the cost functions. And this operators $U_{C}=(H_{C},\\theta_{c})$ and $U_{M}=(H_{M},\\theta_{m})$ will evolve with the state of hamiltonian $H_{C}$ and $H_{M}$ for $\\theta_{c}$ and $\\theta_{m}$ time respectively. "
   ]
  },
  {
   "cell_type": "code",
   "execution_count": 10,
   "metadata": {},
   "outputs": [],
   "source": [
    "def unitary_layer(qc,param1):\n",
    "    for i in range(0,len(edges_set)):\n",
    "        qc.u(0,0,param1,qc.qubits[edges_set[i].start_node])   \n",
    "        qc.u(0,0,param1,qc.qubits[edges_set[i].end_node])\n",
    "        qc.barrier()\n",
    "    return qc"
   ]
  },
  {
   "cell_type": "markdown",
   "metadata": {},
   "source": [
    "# Creating the mixer Hamiltonian"
   ]
  },
  {
   "cell_type": "code",
   "execution_count": 11,
   "metadata": {},
   "outputs": [],
   "source": [
    "def mixture_layer(qc,param2):\n",
    "    for i in range(0,num):\n",
    "        qc.rx(param2,qc.qubits[i])\n",
    "    qc.barrier()\n",
    "    return qc"
   ]
  },
  {
   "cell_type": "markdown",
   "metadata": {},
   "source": [
    "# Creqating the ansatz circuit\n",
    "\n",
    "There are two ways to generate ansatz: 1. Physcially-inpired circuit 2. Hardware efficient. Second one is mostly is used for the transmon qubit or topological based circuit. To develop physically-inspired algorithm one has to look into the circuit structure, then develop the circuit accordingly. In this problem statement the physically-inspired algo is used."
   ]
  },
  {
   "cell_type": "code",
   "execution_count": 15,
   "metadata": {},
   "outputs": [],
   "source": [
    "params = [float(random.randint(-314, 314))/float(100) for i in range(0, 2*depth)]\n",
    "def create_circuit(params):   \n",
    "    q = QuantumRegister(num)\n",
    "    c = ClassicalRegister(num)\n",
    "    qc = QuantumCircuit(q,c)\n",
    "    qc = initialization(qc)\n",
    "    for i in range(0,int(len(params)/2)):\n",
    "        param1 = params[i]\n",
    "        param2 = params[i+1]\n",
    "        qc = unitary_layer(qc,param1)\n",
    "        qc = mixture_layer(qc,param2)\n",
    "    qc.measure(qc.qubits,c)\n",
    "    \n",
    "\n",
    "    \n",
    "    simulator = BasicAer.get_backend('qasm_simulator')\n",
    "    result = execute(qc, simulator).result()\n",
    "    counts = result.get_counts(qc)\n",
    "    results = counts.keys()\n",
    "    new_res=[]\n",
    "    for key in results:\n",
    "        hold=[]\n",
    "        for i in range(0,len(key)):\n",
    "            hold.append(int(key[i]))\n",
    "        for i in range(0,counts[key]):\n",
    "            new_res.append(hold)\n",
    "    \n",
    "    return qc,counts,new_res  #new_res an integer matrix of shape(1024,num) containing measured output for each node 1024 times.\n",
    " "
   ]
  },
  {
   "cell_type": "markdown",
   "metadata": {},
   "source": [
    "# Generate adjacency matrix\n"
   ]
  },
  {
   "cell_type": "code",
   "execution_count": 16,
   "metadata": {},
   "outputs": [
    {
     "name": "stdout",
     "output_type": "stream",
     "text": [
      "[[ 0  1  0  0  7  0  0  0  0  0  0  0  0  0]\n",
      " [ 0  0  2  6  8  0  0  0  0  0  0  0  0  0]\n",
      " [ 5  0  0  3  9  0 13  0  0  0  0  0  0  0]\n",
      " [ 4  0  0  0 10  0  0  0  0  0  0  0  0  0]\n",
      " [ 0  0  0  0  0 11  0  0  0  0  0  0  0  0]\n",
      " [12  0  0  0  0  0  0  0  0  0  0  0  0  0]\n",
      " [ 0  0  0 14  0  0  0  0  0  0  0  0  0  0]\n",
      " [ 0  0  0  0  0  0  0  0  0  0  0  0  0  0]\n",
      " [ 0  0  0  0  0  0  0  0  0  0  0  0  0  0]\n",
      " [ 0  0  0  0  0  0  0  0  0  0  0  0  0  0]\n",
      " [ 0  0  0  0  0  0  0  0  0  0  0  0  0  0]\n",
      " [ 0  0  0  0  0  0  0  0  0  0  0  0  0  0]\n",
      " [ 0  0  0  0  0  0  0  0  0  0  0  0  0  0]\n",
      " [ 0  0  0  0  0  0  0  0  0  0  0  0  0  0]]\n"
     ]
    }
   ],
   "source": [
    "A = np.zeros([num,num],dtype=int)  #weight matrix with rows indicating start node and colomns indicating end node of each edge.\n",
    "for i in range(0,len(edges_set)):\n",
    "    A[edges_set[i].start_node][edges_set[i].end_node] = i+1\n",
    "print(A)"
   ]
  },
  {
   "cell_type": "markdown",
   "metadata": {},
   "source": [
    "# Define the cost function"
   ]
  },
  {
   "cell_type": "code",
   "execution_count": 17,
   "metadata": {},
   "outputs": [
    {
     "name": "stdout",
     "output_type": "stream",
     "text": [
      "-52.4951171875\n"
     ]
    }
   ],
   "source": [
    "def cost_function(params):#maps measurement outputs to labels 1,-1 and claculates the cost\n",
    "    qc,counts,result = create_circuit(params)\n",
    "    total_cost = 0\n",
    "    for i in range(0, len(result)):\n",
    "        for j in edges_set:\n",
    "            total_cost += 0.5*(A[j.start_node][j.end_node])*( ( (1 - 2*result[i][j.start_node]) * (1 - 2*result[i][j.end_node]) ) - 1)\n",
    "    total_cost = float(total_cost)/1024\n",
    "    return total_cost\n",
    "\n",
    "cost = cost_function(params)\n",
    "print(cost)"
   ]
  },
  {
   "cell_type": "code",
   "execution_count": 18,
   "metadata": {},
   "outputs": [
    {
     "name": "stdout",
     "output_type": "stream",
     "text": [
      "     fun: -52.955078125\n",
      "   maxcv: 0.0\n",
      " message: 'Optimization terminated successfully.'\n",
      "    nfev: 26\n",
      "  status: 1\n",
      " success: True\n",
      "       x: array([-3.11180355, -2.81089827])\n"
     ]
    }
   ],
   "source": [
    "out = minimize(cost_function, x0=params, method=\"COBYLA\", options={'maxiter':100})\n",
    "print(out)"
   ]
  },
  {
   "cell_type": "code",
   "execution_count": 19,
   "metadata": {},
   "outputs": [],
   "source": [
    "#obtaining results for optimal parameters\n",
    "circuit,counts,result = create_circuit(out['x'])"
   ]
  },
  {
   "cell_type": "code",
   "execution_count": 24,
   "metadata": {},
   "outputs": [
    {
     "data": {
      "image/png": "[encoded data removed]",
      "text/plain": [
       "<Figure size 432x288 with 1 Axes>"
      ]
     },
     "metadata": {},
     "output_type": "display_data"
    }
   ],
   "source": [
    "\n",
    "#Plotting graph\n",
    "x=[]\n",
    "y=[]\n",
    "for key in counts.keys():\n",
    "    number=0\n",
    "    for i in range(0,len(key)):\n",
    "        number = number + (2**i)*int(key[i])\n",
    "    x.append(number)\n",
    "    y.append(counts[key])\n",
    "import seaborn as sns\n",
    "sns.set()\n",
    "plt.bar(x,y,color='r')\n",
    "plt.xlabel(\"z\")\n",
    "plt.ylabel(\"frequency\")\n",
    "plt.show()"
   ]
  },
  {
   "cell_type": "code",
   "execution_count": null,
   "metadata": {},
   "outputs": [],
   "source": []
  }
 ],
 "metadata": {
  "kernelspec": {
   "display_name": "Python 3",
   "language": "python",
   "name": "python3"
  },
  "language_info": {
   "codemirror_mode": {
    "name": "ipython",
    "version": 3
   },
   "file_extension": ".py",
   "mimetype": "text/x-python",
   "name": "python",
   "nbconvert_exporter": "python",
   "pygments_lexer": "ipython3",
   "version": "3.7.7"
  }
 },
 "nbformat": 4,
 "nbformat_minor": 4
}
